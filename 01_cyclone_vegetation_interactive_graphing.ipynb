{
 "cells": [
  {
   "cell_type": "markdown",
   "metadata": {
    "extensions": {
     "jupyter_dashboards": {
      "version": 1,
      "views": {
       "grid_default": {
        "col": 0,
        "height": 4,
        "hidden": false,
        "row": 0,
        "width": 12
       },
       "report_default": {}
      }
     }
    }
   },
   "source": [
    "# 01. Exploring the impact of tropical cyclones on vegetation: interactive graphing and the relationship of NDVI change and cyclone windspeed"
   ]
  },
  {
   "cell_type": "markdown",
   "metadata": {
    "extensions": {
     "jupyter_dashboards": {
      "version": 1,
      "views": {
       "grid_default": {
        "col": 0,
        "height": 6,
        "hidden": false,
        "row": 4,
        "width": 12
       },
       "report_default": {}
      }
     }
    }
   },
   "source": [
    "This notebook creates an interactive graph that allows the user to choose and then create Landsat and NDVI imagery of a scene before and after a tropical cyclone. The difference of NDVI before and after the tropical cyclone is then visualised. Finally, the notebook is used to import cyclone windfield data and examine the relationship between wind speed and NDVI change.\n",
    "\n",
    "Cells titled \"user requirement\" indicate where users are required to edit code, the remaining code should be run normally. \n",
    "\n",
    "Code written in Janurary 2018 by Erin Telfer with support from Claire Krause. The notebook was completed as a graduate program project at Geoscience Australia. If you have comment or if you find an error, please contact erin.telfer@ga.gov.au. Alternatively, please contact Claire.Krause@ga.gov.au."
   ]
  },
  {
   "cell_type": "code",
   "execution_count": 1,
   "metadata": {
    "extensions": {
     "jupyter_dashboards": {
      "version": 1,
      "views": {
       "grid_default": {
        "col": 0,
        "height": 4,
        "hidden": false,
        "row": 10,
        "width": 4
       },
       "report_default": {}
      }
     }
    }
   },
   "outputs": [
    {
     "name": "stdout",
     "output_type": "stream",
     "text": [
      "Populating the interactive namespace from numpy and matplotlib\n"
     ]
    }
   ],
   "source": [
    "#Import libraries \n",
    "\n",
    "%pylab notebook\n",
    "\n",
    "import pandas as pd\n",
    "import xarray as xr\n",
    "from datetime import date, timedelta\n",
    "import gdal\n",
    "from gdal import *\n",
    "\n",
    "import datacube\n",
    "from datacube.helpers import ga_pq_fuser\n",
    "from datacube.storage import masking\n",
    "from datacube.storage.masking import mask_to_dict\n",
    "\n",
    "from matplotlib.backends.backend_pdf import PdfPages\n",
    "from matplotlib import pyplot as plt\n",
    "import matplotlib.dates\n",
    "from IPython.display import display\n",
    "import ipywidgets as widgets\n",
    "import rasterio\n",
    "import seaborn as sns\n",
    "sns.set(color_codes=True)\n",
    "\n",
    "dc = datacube.Datacube(app='dc-show changes in annual mean NDVI values')"
   ]
  },
  {
   "cell_type": "markdown",
   "metadata": {
    "extensions": {
     "jupyter_dashboards": {
      "version": 1,
      "views": {
       "grid_default": {
        "col": 4,
        "height": 4,
        "hidden": false,
        "row": 10,
        "width": 4
       },
       "report_default": {}
      }
     }
    }
   },
   "source": [
    "# User requirement: specify directory locations"
   ]
  },
  {
   "cell_type": "code",
   "execution_count": 2,
   "metadata": {
    "extensions": {
     "jupyter_dashboards": {
      "version": 1,
      "views": {
       "grid_default": {
        "hidden": true
       },
       "report_default": {}
      }
     }
    }
   },
   "outputs": [],
   "source": [
    "##User input: enter the directory location of input data. Ensure \"/\" are used, not \"\\\"\n",
    "input_folder = '/g/data/w85/ext547/input_data/'\n",
    "\n",
    "###User input: enter the directory location of output data. Please enter again if the same as input_folder. Ensure \"/\" are used, not \"\\\"\n",
    "output_folder = '/g/data/w85/ext547/cyclone_repo/output_data/'"
   ]
  },
  {
   "cell_type": "markdown",
   "metadata": {
    "extensions": {
     "jupyter_dashboards": {
      "version": 1,
      "views": {
       "grid_default": {
        "col": 0,
        "height": 4,
        "hidden": false,
        "row": 14,
        "width": 12
       },
       "report_default": {}
      }
     }
    }
   },
   "source": [
    "# User requirement: specifiy location of interest and details about cyclone"
   ]
  },
  {
   "cell_type": "code",
   "execution_count": 3,
   "metadata": {
    "extensions": {
     "jupyter_dashboards": {
      "version": 1,
      "views": {
       "grid_default": {
        "hidden": true
       },
       "report_default": {}
      }
     }
    }
   },
   "outputs": [],
   "source": [
    "##User input: enter area of interest\n",
    "\n",
    "# #TamOShanter National Park\n",
    "# lat_min = -17.934 #down\n",
    "# lat_max = -17.863 #up\n",
    "# lon_min = 146.026 #left\n",
    "# lon_max = 146.096 #right\n",
    "\n",
    "# \"Debbie sugar\" \n",
    "lat_min = -20.435 #down\n",
    "lat_max = -20.318 #up\n",
    "lon_min = 148.448 #left\n",
    "lon_max = 148.629 #right\n",
    "\n",
    "# # \"Large area\", bananas, Larry \n",
    "# lat_min = -18.016 #down\n",
    "# lat_max = -17.830 #up\n",
    "# lon_min = 145.707 #left\n",
    "# lon_max = 145.873 #right\n",
    "\n",
    "# #Mission Beach Larry\n",
    "# lat_min = -17.866 #down\n",
    "# lat_max = -17.856 #up\n",
    "# lon_min = 146.091 #left\n",
    "# lon_max = 146.109 #right\n",
    "\n",
    "\n",
    "# #'Mt Dryander QLD' Debbie\n",
    "# lat_min = -20.267 #down\n",
    "# lat_max = -20.216 #up\n",
    "# lon_min = 148.534 #left\n",
    "# lon_max = 148.592 #right\n",
    "\n",
    "# # banana Debbie\n",
    "# lat_min = -20.975 #down\n",
    "# lat_max = -20.967 #up\n",
    "# lon_min = 148.685 #left\n",
    "# lon_max = 148.692 #right\n",
    "\n",
    "#High Mt QLD Debbie\n",
    "# lat_min = -20.375 #down\n",
    "# lat_max = -20.340 #up\n",
    "# lon_min = 148.757 #left\n",
    "# lon_max = 148.806 #right\n",
    "\n",
    "#Debbie\n",
    "# lat_min = -20.385 #down\n",
    "# lat_max = -20.326 #up\n",
    "# lon_min = 148.916 #left\n",
    "# lon_max = 148.984 #right\n",
    "\n",
    "##User input: enter the name of vegetation of interest, e.g. \"forest\" or \"banana crop\"\n",
    "vegetation_type = 'sugar'\n",
    "\n",
    "##User input: enter the name of the area/region/place/location of interest, e.g. \"Hamilton Island\"\n",
    "location_name = 'Foxdale'\n",
    "\n",
    "###User input: enter start and end date of cyclone\n",
    "start_of_event= '2017-03-23'\n",
    "end_of_event= '2017-04-07'\n",
    "\n",
    "###User input: enter the name of cyclone\n",
    "cyclone_name =  'Debbie'\n",
    "\n",
    "###User input: set cloud threshold. This value defines the amount of lansdcape/cloud allowed in each scene. Scenes will not be retrieved that have less than the cloud threshold worth of image.\n",
    "#The default value is \"0.90\" or >90% image and <10% cloud cover\n",
    "cloud_free_threshold = 0.70 "
   ]
  },
  {
   "cell_type": "markdown",
   "metadata": {
    "extensions": {
     "jupyter_dashboards": {
      "version": 1,
      "views": {
       "grid_default": {
        "col": 0,
        "height": 4,
        "hidden": false,
        "row": 18,
        "width": 12
       },
       "report_default": {}
      }
     }
    }
   },
   "source": [
    "# User requirement: specify the name of the windfield document (if applicable)"
   ]
  },
  {
   "cell_type": "code",
   "execution_count": 4,
   "metadata": {
    "extensions": {
     "jupyter_dashboards": {
      "version": 1,
      "views": {
       "grid_default": {
        "hidden": true
       },
       "report_default": {}
      }
     }
    }
   },
   "outputs": [],
   "source": [
    "windfield_name= 'Final_corrected_TCDebbie_wind.tif' #include .extension"
   ]
  },
  {
   "cell_type": "markdown",
   "metadata": {
    "extensions": {
     "jupyter_dashboards": {
      "version": 1,
      "views": {
       "grid_default": {
        "col": 8,
        "height": 4,
        "hidden": false,
        "row": 10,
        "width": 4
       },
       "report_default": {}
      }
     }
    }
   },
   "source": [
    "# Datacube query is completed"
   ]
  },
  {
   "cell_type": "code",
   "execution_count": 5,
   "metadata": {
    "extensions": {
     "jupyter_dashboards": {
      "version": 1,
      "views": {
       "grid_default": {
        "col": 0,
        "height": 4,
        "hidden": false,
        "row": 22,
        "width": 4
       },
       "report_default": {}
      }
     }
    }
   },
   "outputs": [
    {
     "name": "stdout",
     "output_type": "stream",
     "text": [
      "{'time': ('2010-01-01', '2017-12-31'), 'x': (148.448, 148.629), 'y': (-20.318, -20.435), 'crs': 'EPSG:4326'}\n"
     ]
    }
   ],
   "source": [
    "#Temporal range, wavelengths/band and sensors of interest are defined\n",
    "\n",
    "#temporal range is defined\n",
    "start_of_epoch = '2010-01-01'\n",
    "end_of_epoch =  '2017-12-31'\n",
    "\n",
    "#wavelengths/bands of interest are defined\n",
    "bands_of_interest = [#'blue',\n",
    "                     'green',\n",
    "                     'red', \n",
    "                     'nir',\n",
    "                     'swir1', \n",
    "                     #'swir2'\n",
    "                     ]\n",
    "\n",
    "#Landsat sensors of interest are defined\n",
    "sensors = ['ls8',\n",
    "       'ls7',\n",
    "      'ls5'] \n",
    "\n",
    "#query is created\n",
    "query = {'time': (start_of_epoch, end_of_epoch),}\n",
    "query['x'] = (lon_min, lon_max)\n",
    "query['y'] = (lat_max, lat_min)\n",
    "query['crs'] = 'EPSG:4326'\n",
    "\n",
    "print(query)"
   ]
  },
  {
   "cell_type": "code",
   "execution_count": 6,
   "metadata": {
    "extensions": {
     "jupyter_dashboards": {
      "version": 1,
      "views": {
       "grid_default": {
        "hidden": true
       },
       "report_default": {}
      }
     }
    }
   },
   "outputs": [],
   "source": [
    "#Reformat variables\n",
    "\n",
    "start_of_event=datetime.datetime.strptime(start_of_event,'%Y-%m-%d') #Convert to datetime\n",
    "end_of_event=datetime.datetime.strptime(end_of_event,'%Y-%m-%d') #Convert to datetime\n",
    "location_name=location_name.replace(\" \",\"_\") #replace spaces with underscore"
   ]
  },
  {
   "cell_type": "markdown",
   "metadata": {
    "extensions": {
     "jupyter_dashboards": {
      "version": 1,
      "views": {
       "grid_default": {
        "col": 4,
        "height": 4,
        "hidden": false,
        "row": 22,
        "width": 4
       },
       "report_default": {}
      }
     }
    }
   },
   "source": [
    "# Data is extracted from Open Datacube"
   ]
  },
  {
   "cell_type": "markdown",
   "metadata": {
    "extensions": {
     "jupyter_dashboards": {
      "version": 1,
      "views": {
       "grid_default": {
        "col": 0,
        "height": 4,
        "hidden": false,
        "row": 26,
        "width": 12
       },
       "report_default": {}
      }
     }
    }
   },
   "source": [
    "The extracted data is first filtered using the criteria in \"mask_components\". \n",
    "The cloudiness of the scenes is then tested, and any scenes that do not meet the given \"cloud_free_threshold\" are discarded.\n",
    "Additionally, any pixel that is located within the ocean/sea will be converted to \"nan\" values with the 'land_sea' command."
   ]
  },
  {
   "cell_type": "code",
   "execution_count": null,
   "metadata": {
    "extensions": {
     "jupyter_dashboards": {
      "version": 1,
      "views": {
       "grid_default": {
        "hidden": true
       },
       "report_default": {}
      }
     }
    }
   },
   "outputs": [],
   "source": [
    "#Create cloud mask. This will define which pixel quality (PQ) artefacts are removed from the results. It should be noted the \"land_sea\" code will remove all ocean/sea pixels.\n",
    "\n",
    "mask_components = {'cloud_acca':'no_cloud',\n",
    "'cloud_shadow_acca' :'no_cloud_shadow',\n",
    "'cloud_shadow_fmask' : 'no_cloud_shadow',\n",
    "'cloud_fmask' :'no_cloud',\n",
    "'blue_saturated' : False,\n",
    "'green_saturated' : False,\n",
    "'red_saturated' : False,\n",
    "'nir_saturated' : False,\n",
    "'swir1_saturated' : False,\n",
    "'swir2_saturated' : False,\n",
    "'contiguous':True,\n",
    "'land_sea': 'land'}"
   ]
  },
  {
   "cell_type": "code",
   "execution_count": null,
   "metadata": {
    "extensions": {
     "jupyter_dashboards": {
      "version": 1,
      "views": {
       "grid_default": {
        "col": 8,
        "height": 4,
        "hidden": false,
        "row": 22,
        "width": 4
       },
       "report_default": {}
      }
     }
    },
    "scrolled": false
   },
   "outputs": [
    {
     "name": "stdout",
     "output_type": "stream",
     "text": [
      "loaded ls8\n"
     ]
    }
   ],
   "source": [
    "#Data for each Landsat sensor is retrieved\n",
    "\n",
    "sensor_clean = {}\n",
    "\n",
    "for sensor in sensors:\n",
    "    #Load the NBAR and corresponding PQ\n",
    "    sensor_nbar = dc.load(product= sensor+'_nbar_albers', group_by='solar_day', \n",
    "                          measurements = bands_of_interest,  **query)\n",
    "    sensor_pq = dc.load(product= sensor+'_pq_albers', group_by='solar_day', \n",
    "                        fuse_func=ga_pq_fuser, **query)\n",
    "    \n",
    "    #Retrieve the projection information before masking/sorting\n",
    "    crs = sensor_nbar.crs\n",
    "    crswkt = sensor_nbar.crs.wkt\n",
    "    affine = sensor_nbar.affine\n",
    "    \n",
    "    #Ensure there's PQ to go with the NBAR\n",
    "    sensor_nbar = sensor_nbar.sel(time = sensor_pq.time)\n",
    "    \n",
    "    #Apply the PQ masks to the NBAR\n",
    "    quality_mask = masking.make_mask(sensor_pq, **mask_components)\n",
    "    good_data = quality_mask.pixelquality.loc[start_of_epoch:end_of_epoch]\n",
    "    sensor_nbar2 = sensor_nbar.where(good_data)\n",
    "    \n",
    "    #Calculate the percentage cloud free for each scene\n",
    "    cloud_free = masking.make_mask(sensor_pq, cloud_acca='no_cloud', cloud_fmask='no_cloud', \n",
    "                                   contiguous=True).pixelquality\n",
    "    mostly_cloud_free = cloud_free.mean(dim=('x','y')) >= cloud_free_threshold\n",
    "        \n",
    "    #Discard data that does not meet the cloud_free_threshold\n",
    "    mostly_good = sensor_nbar2.where(mostly_cloud_free).dropna(dim='time', how='all')\n",
    "    \n",
    "    mostly_good['product'] = ('time', numpy.repeat(sensor, mostly_good.time.size))    \n",
    "    sensor_clean[sensor] = mostly_good\n",
    "\n",
    "    print('loaded %s' % sensor) \n",
    "    \n",
    "\n",
    "print ('complete')"
   ]
  },
  {
   "cell_type": "code",
   "execution_count": null,
   "metadata": {
    "extensions": {
     "jupyter_dashboards": {
      "version": 1,
      "views": {
       "grid_default": {
        "hidden": true
       },
       "report_default": {}
      }
     }
    }
   },
   "outputs": [],
   "source": [
    "#Check the output\n",
    "\n",
    "sensor_clean"
   ]
  },
  {
   "cell_type": "code",
   "execution_count": null,
   "metadata": {
    "extensions": {
     "jupyter_dashboards": {
      "version": 1,
      "views": {
       "grid_default": {
        "hidden": true
       },
       "report_default": {}
      }
     }
    },
    "scrolled": false
   },
   "outputs": [],
   "source": [
    "#Data from different sensors are joined together and sorted so that observations are sorted by time rather than sensor\n",
    "nbar_clean = xr.concat(sensor_clean.values(), 'time')\n",
    "nbar_clean = nbar_clean.sortby('time')\n",
    "nbar_clean.attrs['crs'] = crs\n",
    "nbar_clean.attrs['affin|e'] = affine"
   ]
  },
  {
   "cell_type": "code",
   "execution_count": null,
   "metadata": {
    "extensions": {
     "jupyter_dashboards": {
      "version": 1,
      "views": {
       "grid_default": {
        "hidden": true
       },
       "report_default": {}
      }
     }
    }
   },
   "outputs": [],
   "source": [
    "#Check that the concatenation worked\n",
    "\n",
    "nbar_clean"
   ]
  },
  {
   "cell_type": "markdown",
   "metadata": {
    "extensions": {
     "jupyter_dashboards": {
      "version": 1,
      "views": {
       "grid_default": {
        "col": 0,
        "height": 4,
        "hidden": false,
        "row": 30,
        "width": 4
       },
       "report_default": {}
      }
     }
    }
   },
   "source": [
    "# Find the scenes that occur before and after cyclone"
   ]
  },
  {
   "cell_type": "code",
   "execution_count": null,
   "metadata": {
    "extensions": {
     "jupyter_dashboards": {
      "version": 1,
      "views": {
       "grid_default": {
        "hidden": true
       },
       "report_default": {}
      }
     }
    }
   },
   "outputs": [],
   "source": [
    "#Retun time and sensor information\n",
    "product_time = nbar_clean[['time', 'product']].to_dataframe() #Add time and product to dataframe\n",
    "product_time.index = product_time.index + pd.Timedelta(hours=10) #Roughly convert to local time\n",
    "product_time.index = product_time.index.map(lambda t: t.strftime('%Y-%m-%d')) #Remove Hours/Minutes Seconds by formatting into a string"
   ]
  },
  {
   "cell_type": "code",
   "execution_count": null,
   "metadata": {
    "extensions": {
     "jupyter_dashboards": {
      "version": 1,
      "views": {
       "grid_default": {
        "hidden": true
       },
       "report_default": {}
      }
     }
    }
   },
   "outputs": [],
   "source": [
    "#Save cyclone \"event\" date in correct format for plotting\n",
    "event_dates=pd.DataFrame()\n",
    "delta = end_of_event - start_of_event\n",
    "for i in range(delta.days + 1):\n",
    "    date=start_of_event + timedelta(days=i)\n",
    "    date=pd.DataFrame([date],index=None)\n",
    "    event_dates=event_dates.append(date)\n",
    "event_dates.columns=['date']\n",
    "event_dates=event_dates.set_index('date',drop=False)\n",
    "event_dates.index=event_dates.index.map(lambda t: t.strftime('%Y-%m-%d'))\n",
    "event_dates['value']=1"
   ]
  },
  {
   "cell_type": "code",
   "execution_count": null,
   "metadata": {
    "extensions": {
     "jupyter_dashboards": {
      "version": 1,
      "views": {
       "grid_default": {
        "hidden": true
       },
       "report_default": {}
      }
     }
    }
   },
   "outputs": [],
   "source": [
    "#Save \"interest dates\" in correct format for plotting. Interest dates are set to help visulise avaliable scenes on either side of the cyclone.\n",
    "start_of_interest= start_of_event+datetime.timedelta(days=-200) #default of 200 days\n",
    "end_of_interest= end_of_event+datetime.timedelta(days=200) #default of 200 days\n",
    "\n",
    "interest_dates=pd.DataFrame()\n",
    "delta = end_of_interest - start_of_interest\n",
    "for i in range(delta.days + 1):\n",
    "    date=start_of_interest + timedelta(days=i)\n",
    "    date=pd.DataFrame([date],index=None)\n",
    "    interest_dates=interest_dates.append(date)\n",
    "\n",
    "interest_dates.columns=['date']\n",
    "interest_dates=interest_dates.set_index('date',drop=False)\n",
    "interest_dates.index=interest_dates.index.map(lambda t: t.strftime('%Y-%m-%d'))\n",
    "interest_dates['value']=1"
   ]
  },
  {
   "cell_type": "code",
   "execution_count": null,
   "metadata": {
    "extensions": {
     "jupyter_dashboards": {
      "version": 1,
      "views": {
       "grid_default": {
        "hidden": true
       },
       "report_default": {}
      }
     }
    }
   },
   "outputs": [],
   "source": [
    "#Merge dates of interest with the Landsat scenes to match dates\n",
    "subset_data = pd.merge(interest_dates, product_time, left_index=True,#left_on= 'date', \n",
    "                       right_index=True, how='inner') #Match dates and merge"
   ]
  },
  {
   "cell_type": "markdown",
   "metadata": {
    "extensions": {
     "jupyter_dashboards": {
      "version": 1,
      "views": {
       "grid_default": {
        "col": 0,
        "height": 4,
        "hidden": false,
        "row": 34,
        "width": 12
       },
       "report_default": {}
      }
     }
    }
   },
   "source": [
    "# Create an interactive graph that shows suitable imagery before and after the cyclone"
   ]
  },
  {
   "cell_type": "code",
   "execution_count": null,
   "metadata": {
    "extensions": {
     "jupyter_dashboards": {
      "version": 1,
      "views": {
       "grid_default": {
        "col": 0,
        "height": 14,
        "hidden": false,
        "row": 38,
        "width": 4
       },
       "report_default": {}
      }
     }
    },
    "scrolled": false
   },
   "outputs": [],
   "source": [
    "#Create interactive plot that enables the user to select a scene. User should select a scene before the cyclone event\n",
    "\n",
    "#Create widget that enables interaction with plot\n",
    "w = widgets.HTML(\"Event information appears here when you click on the figure\")\n",
    "def callback(event):\n",
    "    global date_int, devent\n",
    "    devent = event\n",
    "    date_int = event.xdata\n",
    "    time_int_ = time_int.astype(datetime64[D])\n",
    "    w.value = 'time_int: {}'.format(time_int)\n",
    "\n",
    "#Set up plot\n",
    "fig = plt.figure(figsize=(10,8)) #Set plot size\n",
    "fig.canvas.mpl_connect('button_press_event', callback) #Plot setup\n",
    "plt.title('Interactive graph: imagery avaliable before and after cyclone ' +str(cyclone_name), size=14) #Plot title\n",
    "display(w) #Plot setup with interactive widget\n",
    "plt.subplots_adjust(left=0.10, right=0.90, top=0.90, bottom=0.15) #Set border dimensions\n",
    "fig.patch.set_facecolor('white') #Make border is white\n",
    "fig.patch.set_alpha(0.99) #Ensure border is white\n",
    "\n",
    "#Plot dates of interest, dates of cyclone and dates of imagery\n",
    "plt.plot_date(interest_dates.date,interest_dates.value, 'g.', markersize=15, \n",
    "                            label= 'Time period of interest')\n",
    "plt.plot_date(event_dates.date,event_dates.value, 'b.', markersize=15, \n",
    "                            label= 'Cyclone event')\n",
    "plt.plot_date(subset_data.date,subset_data.value, 'r.', markersize=30,\n",
    "                            label= 'Suitable imagery') #The term \"suitable\" is defined by cloud_free_threshold.\n",
    "#Axis details\n",
    "plt.yticks([]) #Remove y axis values as not required\n",
    "plt.xticks(rotation=45,size=12) #Rotate and format size of date labels\n",
    "plt.xlabel('Date', size=14) #Set X label\n",
    "plt.legend(edgecolor ='none', ncol=3, loc=9, fontsize=14) #Set legend location on plot\n",
    "\n",
    "plt.show() #Plot setup"
   ]
  },
  {
   "cell_type": "code",
   "execution_count": null,
   "metadata": {
    "extensions": {
     "jupyter_dashboards": {
      "version": 1,
      "views": {
       "grid_default": {
        "hidden": true
       },
       "report_default": {}
      }
     }
    }
   },
   "outputs": [],
   "source": [
    "#Save figure\n",
    "plt.savefig(str(output_folder)+'NB01_1_imagery_avaliable_cyclone_'+str(cyclone_name)+'_'+str(location_name))"
   ]
  },
  {
   "cell_type": "code",
   "execution_count": null,
   "metadata": {
    "extensions": {
     "jupyter_dashboards": {
      "version": 1,
      "views": {
       "grid_default": {
        "col": 4,
        "height": 4,
        "hidden": false,
        "row": 30,
        "width": 4
       },
       "report_default": {}
      }
     }
    }
   },
   "outputs": [],
   "source": [
    "#reformat and show date clicked on interactive graph\n",
    "time_slice = matplotlib.dates.num2date(date_int).date()\n",
    "subset_data['date'] = pd.to_datetime(subset_data['date'], format='%Y-%m-%d')\n",
    "subset_data['difference']=(subset_data['date'] - time_slice).abs() \n",
    "time_slice=subset_data.iloc[argsort(subset_data['difference'])].date\n",
    "time_slice= (list(time_slice)[0])\n",
    "time_slice_str=datetime.datetime.strftime(time_slice,'%Y-%m-%d')\n",
    "time_slice= np.datetime64(time_slice)\n",
    "print(time_slice)"
   ]
  },
  {
   "cell_type": "code",
   "execution_count": null,
   "metadata": {
    "extensions": {
     "jupyter_dashboards": {
      "version": 1,
      "views": {
       "grid_default": {
        "hidden": true
       },
       "report_default": {}
      }
     }
    }
   },
   "outputs": [],
   "source": [
    "#Prepare imagery\n",
    "rgb = nbar_clean.sel(time =time_slice, method = 'nearest').to_array(dim='color').sel(color=[\n",
    "    'swir1','nir', 'green']).transpose('y', 'x', 'color')\n",
    "fake_saturation = 6000.0\n",
    "rgb = rgb.astype('double')\n",
    "clipped_visible = rgb.where(rgb<fake_saturation).fillna(fake_saturation)\n",
    "max_val = clipped_visible.max(['y', 'x'])\n",
    "scaled = (clipped_visible / max_val)"
   ]
  },
  {
   "cell_type": "code",
   "execution_count": null,
   "metadata": {
    "extensions": {
     "jupyter_dashboards": {
      "version": 1,
      "views": {
       "grid_default": {
        "col": 4,
        "height": 14,
        "hidden": false,
        "row": 38,
        "width": 4
       },
       "report_default": {}
      }
     }
    }
   },
   "outputs": [],
   "source": [
    "#Create image that shows landscape before cyclone\n",
    "\n",
    "fig = plt.figure(figsize =(8,8)) #Edit size of plot \n",
    "plt.subplots_adjust(left=0.05, right=0.95, top=0.95, bottom=0.05) #Set border dimensions\n",
    "fig.patch.set_facecolor('white') #Make border white \n",
    "fig.patch.set_alpha(0.99)#Ensure border white\n",
    "plt.axis('off')#remove axis \n",
    "plt.title('Image 01: ' + str(vegetation_type)+ ' landscape prior (' +time_slice_str+ ') to cyclone '+ str(cyclone_name)) #add title\n",
    "plt.imshow(scaled, interpolation = 'nearest') #create image"
   ]
  },
  {
   "cell_type": "code",
   "execution_count": null,
   "metadata": {
    "extensions": {
     "jupyter_dashboards": {
      "version": 1,
      "views": {
       "grid_default": {
        "hidden": true
       },
       "report_default": {}
      }
     }
    }
   },
   "outputs": [],
   "source": [
    "#Save figure\n",
    "plt.savefig(str(output_folder)+'NB01_2_landscape_image01_'+str(cyclone_name)+'_'+str(location_name)+'_'+time_slice_str)"
   ]
  },
  {
   "cell_type": "code",
   "execution_count": null,
   "metadata": {
    "extensions": {
     "jupyter_dashboards": {
      "version": 1,
      "views": {
       "grid_default": {
        "hidden": true
       },
       "report_default": {}
      }
     }
    }
   },
   "outputs": [],
   "source": [
    "#Calculate NDVI\n",
    "ndvi = ((nbar_clean.nir-nbar_clean.red)/(nbar_clean.nir+nbar_clean.red))\n",
    "ndvi = ndvi.where(ndvi>=0.0)\n",
    "ndvi_of_interest= ndvi.sel(time = time_slice, method='nearest') #select scene\n",
    "\n",
    "ndvi.attrs['crs'] = crs\n",
    "ndvi.attrs['affine'] = affine"
   ]
  },
  {
   "cell_type": "code",
   "execution_count": null,
   "metadata": {
    "extensions": {
     "jupyter_dashboards": {
      "version": 1,
      "views": {
       "grid_default": {
        "col": 8,
        "height": 12,
        "hidden": false,
        "row": 38,
        "width": 4
       },
       "report_default": {}
      }
     }
    },
    "scrolled": true
   },
   "outputs": [],
   "source": [
    "#Plot NDVI for scene prior to cyclone\n",
    "\n",
    "#Create plot\n",
    "fig = plt.figure(figsize =(10,8)) #Edit size of plot \n",
    "plt.axis('off')#remove axis \n",
    "fig.patch.set_facecolor('white') #Make border white\n",
    "fig.patch.set_alpha(0.99)#Ensure border white\n",
    "plt.subplots_adjust(left=0.10, right=0.90, top=0.90, bottom=0.10) #set border dimensions\n",
    "ndvi_of_interest.plot(cmap = 'YlGn',vmin=0,vmax=1) #create image\n",
    "plt.title('NDVI 01: ' + str(vegetation_type)+ ' landscape prior (' +time_slice_str+ ') to cyclone '+ str(cyclone_name)) #add title"
   ]
  },
  {
   "cell_type": "code",
   "execution_count": null,
   "metadata": {
    "extensions": {
     "jupyter_dashboards": {
      "version": 1,
      "views": {
       "grid_default": {
        "hidden": true
       },
       "report_default": {}
      }
     }
    }
   },
   "outputs": [],
   "source": [
    "#Save figure\n",
    "plt.savefig(str(output_folder)+'NB01_4_NDVI01_'+str(cyclone_name)+'_'+str(location_name)+'_'+time_slice_str)"
   ]
  },
  {
   "cell_type": "markdown",
   "metadata": {
    "extensions": {
     "jupyter_dashboards": {
      "version": 1,
      "views": {
       "grid_default": {
        "col": 8,
        "height": 4,
        "hidden": false,
        "row": 30,
        "width": 4
       },
       "report_default": {}
      }
     }
    }
   },
   "source": [
    "# Landscape and NDVI of scene after cyclone"
   ]
  },
  {
   "cell_type": "code",
   "execution_count": null,
   "metadata": {
    "extensions": {
     "jupyter_dashboards": {
      "version": 1,
      "views": {
       "grid_default": {
        "col": 8,
        "height": 16,
        "hidden": false,
        "row": 50,
        "width": 4
       },
       "report_default": {}
      }
     }
    },
    "scrolled": false
   },
   "outputs": [],
   "source": [
    "#Create interactive plot that enables the user to select a scene. User should select a scene after the cyclone event\n",
    "\n",
    "#create widget that enables interaction with plot\n",
    "w = widgets.HTML(\"Event information appears here when you click on the figure\")\n",
    "def callback(event):\n",
    "    global date_int2, devent\n",
    "    devent = event\n",
    "    date_int2 = event.xdata\n",
    "    time_int_ = time_int2.astype(datetime64[D])\n",
    "    w.value = 'time_int: {}'.format(time_int)\n",
    "\n",
    "#Set up plot\n",
    "fig = plt.figure(figsize=(10,8)) #Set plot size\n",
    "fig.canvas.mpl_connect('button_press_event', callback) #Plot setup\n",
    "plt.title('Interactive graph: imagery avaliable before and after cyclone ' +str(cyclone_name), size=14) #Plot title\n",
    "display(w) #Plot setup with interactive widget\n",
    "plt.subplots_adjust(left=0.10, right=0.90, top=0.90, bottom=0.15) #Set border dimensions\n",
    "fig.patch.set_facecolor('white') #Make border is white\n",
    "fig.patch.set_alpha(0.99) #Ensure border is white\n",
    "\n",
    "#Plot dates of interest, dates of cyclone and dates of imagery\n",
    "plt.plot_date(interest_dates.date,interest_dates.value, 'g.', markersize=20, \n",
    "                            label= 'Time period of interest')\n",
    "plt.plot_date(event_dates.date,event_dates.value, 'b.', markersize=20, \n",
    "                            label= 'Cyclone event')\n",
    "plt.plot_date(subset_data.date,subset_data.value, 'r.', markersize=30,\n",
    "                            label= 'Suitable imagery') #The term \"suitable\" is defined by cloud_free_threshold.\n",
    "\n",
    "#Axis details\n",
    "plt.yticks([]) #remove y axis values as not required\n",
    "plt.xticks(rotation=45,size=12) #Rotate and format size of date labels\n",
    "plt.xlabel('Date', size=14) #Set X label\n",
    "plt.legend(edgecolor ='none', ncol=3, loc=9, fontsize=14) #Set legend location on plot"
   ]
  },
  {
   "cell_type": "code",
   "execution_count": null,
   "metadata": {
    "extensions": {
     "jupyter_dashboards": {
      "version": 1,
      "views": {
       "grid_default": {
        "col": 0,
        "height": 4,
        "hidden": false,
        "row": 52,
        "width": 4
       },
       "report_default": {}
      }
     }
    }
   },
   "outputs": [],
   "source": [
    "#reformat and show date clicked on interactive graph\n",
    "time_slice02 = matplotlib.dates.num2date(date_int2).date()\n",
    "subset_data['date'] = pd.to_datetime(subset_data['date'], format='%Y-%m-%d')\n",
    "subset_data['difference']=(subset_data['date'] - time_slice02).abs() \n",
    "time_slice02=subset_data.iloc[argsort(subset_data['difference'])].date\n",
    "time_slice02= (list(time_slice02)[0])\n",
    "time_slice02_str=datetime.datetime.strftime(time_slice02,'%Y-%m-%d')\n",
    "time_slice02"
   ]
  },
  {
   "cell_type": "code",
   "execution_count": null,
   "metadata": {
    "extensions": {
     "jupyter_dashboards": {
      "version": 1,
      "views": {
       "grid_default": {
        "hidden": true
       },
       "report_default": {}
      }
     }
    }
   },
   "outputs": [],
   "source": [
    "#Prepare imagery for scene after cyclone\n",
    "\n",
    "rgb02 = nbar_clean.sel(time =time_slice02, method = 'nearest').to_array(dim='color').sel(color=[\n",
    "    'swir1','nir', 'green']).transpose('y', 'x', 'color')\n",
    "fake_saturation = 6000.0\n",
    "rgb02 = rgb02.astype('double')\n",
    "clipped_visible02 = rgb02.where(rgb02<fake_saturation).fillna(fake_saturation)\n",
    "max_val02 = clipped_visible02.max(['y', 'x'])\n",
    "scaled02 = (clipped_visible02 / max_val02)"
   ]
  },
  {
   "cell_type": "code",
   "execution_count": null,
   "metadata": {
    "extensions": {
     "jupyter_dashboards": {
      "version": 1,
      "views": {
       "grid_default": {
        "col": 4,
        "height": 13,
        "hidden": false,
        "row": 52,
        "width": 4
       },
       "report_default": {}
      }
     }
    }
   },
   "outputs": [],
   "source": [
    "#Create image that shows landscape after cyclone\n",
    "\n",
    "fig = plt.figure(figsize =(8,8)) #Edit size of plot\n",
    "plt.subplots_adjust(left=0.05, right=0.95, top=0.95, bottom=0.05) #Set border dimensions\n",
    "fig.patch.set_facecolor('white') #Make border white\n",
    "fig.patch.set_alpha(0.99)#Ensure border white\n",
    "plt.axis('off')#remove axis\n",
    "plt.title('Image 02: ' + str(vegetation_type)+ ' landscape after ('+time_slice02_str+ ') cyclone '+ str(cyclone_name)) #add title\n",
    "plt.imshow(scaled02, interpolation = 'nearest') #create image\n",
    "plt.show() #show image"
   ]
  },
  {
   "cell_type": "code",
   "execution_count": null,
   "metadata": {
    "extensions": {
     "jupyter_dashboards": {
      "version": 1,
      "views": {
       "grid_default": {
        "hidden": true
       },
       "report_default": {}
      }
     }
    }
   },
   "outputs": [],
   "source": [
    "#Save figure\n",
    "plt.savefig(str(output_folder)+'NB01_3_landscape_image02_'+str(cyclone_name)+'_'+str(location_name)+'_'+time_slice02_str) "
   ]
  },
  {
   "cell_type": "code",
   "execution_count": null,
   "metadata": {
    "extensions": {
     "jupyter_dashboards": {
      "version": 1,
      "views": {
       "grid_default": {
        "col": 0,
        "height": 20,
        "hidden": false,
        "row": 56,
        "width": 4
       },
       "report_default": {}
      }
     }
    }
   },
   "outputs": [],
   "source": [
    "#Select NDVI for scene after cyclone\n",
    "ndvi_of_interest02= ndvi.sel(time = time_slice02, method='nearest')\n",
    "ndvi_of_interest02"
   ]
  },
  {
   "cell_type": "code",
   "execution_count": null,
   "metadata": {
    "extensions": {
     "jupyter_dashboards": {
      "version": 1,
      "views": {
       "grid_default": {
        "col": 4,
        "height": 12,
        "hidden": false,
        "row": 65,
        "width": 4
       },
       "report_default": {}
      }
     }
    }
   },
   "outputs": [],
   "source": [
    "#Plot NDVI for scene after cyclone\n",
    "\n",
    "fig = plt.figure(figsize =(10,8)) #Edit size of plot \n",
    "plt.axis('off')#remove axis \n",
    "fig.patch.set_facecolor('white') #Make border white\n",
    "fig.patch.set_alpha(0.99)#Ensure border white\n",
    "plt.subplots_adjust(left=0.10, right=0.90, top=0.90, bottom=0.10) #set border dimensions\n",
    "ndvi_of_interest02.plot(cmap = 'YlGn',vmin=0,vmax=1) #create image\n",
    "plt.title('NDVI 02: ' + str(vegetation_type)+ ' landscape after (' +time_slice02_str+ ') cyclone '+ str(cyclone_name)) #add title"
   ]
  },
  {
   "cell_type": "code",
   "execution_count": null,
   "metadata": {
    "extensions": {
     "jupyter_dashboards": {
      "version": 1,
      "views": {
       "grid_default": {
        "hidden": true
       },
       "report_default": {}
      }
     }
    }
   },
   "outputs": [],
   "source": [
    "#Save figure\n",
    "plt.savefig(str(output_folder)+'NB01_5_NDVI02_'+str(cyclone_name)+'_'+str(location_name)+'_'+time_slice02_str)"
   ]
  },
  {
   "cell_type": "markdown",
   "metadata": {
    "extensions": {
     "jupyter_dashboards": {
      "version": 1,
      "views": {
       "grid_default": {
        "col": 8,
        "height": 4,
        "hidden": false,
        "row": 66,
        "width": 4
       },
       "report_default": {}
      }
     }
    }
   },
   "source": [
    "# Change in vegetation before/after cyclone"
   ]
  },
  {
   "cell_type": "code",
   "execution_count": null,
   "metadata": {
    "extensions": {
     "jupyter_dashboards": {
      "version": 1,
      "views": {
       "grid_default": {
        "hidden": true
       },
       "report_default": {}
      }
     }
    }
   },
   "outputs": [],
   "source": [
    "#Calculate the difference in NDVI from before to after cyclone\n",
    "\n",
    "ndvi_change= ndvi_of_interest02-ndvi_of_interest\n",
    "ndvi_change.attrs['affine'] = affine"
   ]
  },
  {
   "cell_type": "code",
   "execution_count": null,
   "metadata": {
    "extensions": {
     "jupyter_dashboards": {
      "version": 1,
      "views": {
       "grid_default": {
        "col": 8,
        "height": 4,
        "hidden": false,
        "row": 70,
        "width": 4
       },
       "report_default": {}
      }
     }
    }
   },
   "outputs": [],
   "source": [
    "#Calculate the average difference in NDVI\n",
    "ndvi_mean_change =ndvi_change.mean(dim=('x','y'))\n",
    "percentage_ndvi_mean_change= (ndvi_mean_change /(ndvi_of_interest.mean(dim=('x','y'))))*100\n",
    "print('Average difference in NDVI: ' +str(ndvi_mean_change.values)[0:5])\n",
    "print('percentage change of NDVI: ' +str((percentage_ndvi_mean_change.values))[0:5]+'%')"
   ]
  },
  {
   "cell_type": "code",
   "execution_count": null,
   "metadata": {
    "extensions": {
     "jupyter_dashboards": {
      "version": 1,
      "views": {
       "grid_default": {
        "col": 8,
        "height": 12,
        "hidden": false,
        "row": 74,
        "width": 4
       },
       "report_default": {}
      }
     }
    }
   },
   "outputs": [],
   "source": [
    "#Plot the change of NDVI\n",
    "fig = plt.figure(figsize=(10,8)) #create plot\n",
    "plt.axis('off')#remove axis\n",
    "fig.patch.set_facecolor('white') #make border white \n",
    "fig.patch.set_alpha(0.99)#ensure border white\n",
    "plt.subplots_adjust(left=0.10, right=0.90, top=0.90, bottom=0.10) #set border dimensions\n",
    "ndvi_change.plot(cmap = 'RdYlGn',vmin=-1,vmax=1) #create image\n",
    "\n",
    "plt.title('NDVI difference for '+str(vegetation_type)+ ' landscape before and after Cyclone '+str(cyclone_name)) #add title"
   ]
  },
  {
   "cell_type": "code",
   "execution_count": null,
   "metadata": {
    "extensions": {
     "jupyter_dashboards": {
      "version": 1,
      "views": {
       "grid_default": {
        "hidden": true
       },
       "report_default": {}
      }
     }
    }
   },
   "outputs": [],
   "source": [
    "#Save figure\n",
    "plt.savefig(str(output_folder)+'NB01_6_NDVI_change_'+str(cyclone_name)+'_'+str(location_name))"
   ]
  },
  {
   "cell_type": "markdown",
   "metadata": {
    "extensions": {
     "jupyter_dashboards": {
      "version": 1,
      "views": {
       "grid_default": {
        "col": 0,
        "height": 4,
        "hidden": false,
        "row": 86,
        "width": 12
       },
       "report_default": {}
      }
     }
    }
   },
   "source": [
    "# Import and process windfield data to ensure pixel size and projection is the same as NDVI dataset"
   ]
  },
  {
   "cell_type": "code",
   "execution_count": null,
   "metadata": {
    "extensions": {
     "jupyter_dashboards": {
      "version": 1,
      "views": {
       "grid_default": {
        "hidden": true
       },
       "report_default": {}
      }
     }
    }
   },
   "outputs": [],
   "source": [
    "# #read windfield geotiff\n",
    "windfield = gdal.Open(input_folder+windfield_name, gdal.GA_ReadOnly)\n",
    "windfield"
   ]
  },
  {
   "cell_type": "code",
   "execution_count": null,
   "metadata": {
    "extensions": {
     "jupyter_dashboards": {
      "version": 1,
      "views": {
       "grid_default": {
        "hidden": true
       },
       "report_default": {}
      }
     }
    }
   },
   "outputs": [],
   "source": [
    "#get projection information from windfiled\n",
    "windfield_proj = windfield.GetProjection()\n",
    "windfield_proj"
   ]
  },
  {
   "cell_type": "code",
   "execution_count": null,
   "metadata": {
    "extensions": {
     "jupyter_dashboards": {
      "version": 1,
      "views": {
       "grid_default": {
        "hidden": true
       },
       "report_default": {}
      }
     }
    }
   },
   "outputs": [],
   "source": [
    "#Convert NDVI data array to raster saved in memory\n",
    "\n",
    "#save NDVI_change dataset to a numpy array\n",
    "ndvi_array = np.asarray(ndvi_change)\n",
    "\n",
    "#define conversion variables\n",
    "cols= int(ndvi_change.x.count())\n",
    "rows= int(ndvi_change.y.count())\n",
    "originX= ndvi_change.affine.c\n",
    "dx= ndvi_change.affine.a\n",
    "originY= ndvi_change.affine.f\n",
    "dy= ndvi_change.affine.e\n",
    "epsg=int((str(crs)).replace('EPSG:',''))\n",
    "nodata=0\n",
    "\n",
    "#complete conversion of NDVI array into raster\n",
    "driver = gdal.GetDriverByName('MEM')\n",
    "ndvi_raster = driver.Create('ndvi', cols, rows, 1, gdal.GDT_Float32)\n",
    "ndvi_raster.SetGeoTransform((originX, dx, 0, originY, 0, dy))\n",
    "ndvi_band = ndvi_raster.GetRasterBand(1)\n",
    "ndvi_band.WriteArray(ndvi_array)\n",
    "ndvi_band.SetNoDataValue(nodata)\n",
    "ndvi_raster_SRS = osr.SpatialReference()\n",
    "ndvi_raster_SRS.ImportFromEPSG(epsg)\n",
    "ndvi_raster.SetProjection(ndvi_raster_SRS.ExportToWkt())\n",
    "ndvi_band.FlushCache()"
   ]
  },
  {
   "cell_type": "code",
   "execution_count": null,
   "metadata": {
    "extensions": {
     "jupyter_dashboards": {
      "version": 1,
      "views": {
       "grid_default": {
        "hidden": true
       },
       "report_default": {}
      }
     }
    }
   },
   "outputs": [],
   "source": [
    "#Save metadata from NDVI_change\n",
    "match_ds = ndvi_raster\n",
    "match_proj = match_ds.GetProjection()\n",
    "match_geotrans = match_ds.GetGeoTransform()\n",
    "wide = match_ds.RasterXSize\n",
    "high = match_ds.RasterYSize"
   ]
  },
  {
   "cell_type": "code",
   "execution_count": null,
   "metadata": {
    "extensions": {
     "jupyter_dashboards": {
      "version": 1,
      "views": {
       "grid_default": {
        "hidden": true
       },
       "report_default": {}
      }
     }
    }
   },
   "outputs": [],
   "source": [
    "#Create a  geotiff that is the same size and is in the same projection as the NDVI dataset\n",
    "drv = gdal.GetDriverByName('GTiff')\n",
    "windfield_matched = drv.Create('ouput_file', wide, high, 1, gdal.GDT_Float32)\n",
    "windfield_matched.SetGeoTransform(match_geotrans)\n",
    "windfield_matched.SetProjection(match_proj)\n",
    "\n",
    "#create windfield geotiff\n",
    "resampling_method = gdalconst.GRA_Bilinear\n",
    "gdal.ReprojectImage(windfield, windfield_matched, windfield_proj, match_proj, resampling_method)\n",
    "\n",
    "#view datasets and projections to ensure information looks correct\n",
    "print ('windfield       = ', windfield)\n",
    "print ('windfield_matched             = ',windfield_matched)\n",
    "print ('windfield_proj        = ',windfield_proj)\n",
    "print ('match_proj      = ',match_proj)"
   ]
  },
  {
   "cell_type": "markdown",
   "metadata": {
    "extensions": {
     "jupyter_dashboards": {
      "version": 1,
      "views": {
       "grid_default": {
        "col": 0,
        "height": 4,
        "hidden": false,
        "row": 76,
        "width": 4
       },
       "report_default": {}
      }
     }
    }
   },
   "source": [
    "## Save resampled windfield as an array and check array shape"
   ]
  },
  {
   "cell_type": "code",
   "execution_count": null,
   "metadata": {
    "extensions": {
     "jupyter_dashboards": {
      "version": 1,
      "views": {
       "grid_default": {
        "hidden": true
       },
       "report_default": {}
      }
     }
    }
   },
   "outputs": [],
   "source": [
    "windfield_matched_array=windfield_matched.ReadAsArray()\n",
    "\n",
    "#check that arrays have the same shape\n",
    "print('windfield shape = '+ str(shape(windfield_matched_array)))\n",
    "print('ndvi_change shape = '+ str(shape(ndvi_change.values)))"
   ]
  },
  {
   "cell_type": "markdown",
   "metadata": {
    "extensions": {
     "jupyter_dashboards": {
      "version": 1,
      "views": {
       "grid_default": {
        "col": 0,
        "height": 4,
        "hidden": false,
        "row": 90,
        "width": 12
       },
       "report_default": {}
      }
     }
    }
   },
   "source": [
    "## Create a plot that examines relationship between wind and change in NDVI after a cyclone"
   ]
  },
  {
   "cell_type": "code",
   "execution_count": null,
   "metadata": {
    "extensions": {
     "jupyter_dashboards": {
      "version": 1,
      "views": {
       "grid_default": {
        "hidden": true
       },
       "report_default": {}
      }
     }
    }
   },
   "outputs": [],
   "source": [
    "#set variables to allow automatic X-axis on plot\n",
    "x_min=np.around(np.amin(windfield_matched_array),decimals=-1)-10\n",
    "x_max=np.around(np.amax(windfield_matched_array),decimals=-1)+10\n",
    "x_num= np.around(np.amax(windfield_matched_array)-np.amin(windfield_matched_array))"
   ]
  },
  {
   "cell_type": "code",
   "execution_count": null,
   "metadata": {
    "extensions": {
     "jupyter_dashboards": {
      "version": 1,
      "views": {
       "grid_default": {
        "hidden": true
       },
       "report_default": {}
      }
     }
    }
   },
   "outputs": [],
   "source": [
    "plt.plot(windfield_matched_array)\n",
    "plt.show()"
   ]
  },
  {
   "cell_type": "code",
   "execution_count": null,
   "metadata": {
    "extensions": {
     "jupyter_dashboards": {
      "version": 1,
      "views": {
       "grid_default": {
        "hidden": true
       },
       "report_default": {}
      }
     }
    }
   },
   "outputs": [],
   "source": [
    "#Create an xarray array of NDVI change and windfield data\n",
    "coords_da={'y': ndvi_change.y, 'x': ndvi_change.x} #create coordinate variable\n",
    "windfield_da = xr.DataArray(windfield_matched_array, dims=('y','x'), coords=coords_da) #create windfield dataset in correct format\n",
    "relationship_ds = xr.Dataset({'ndvi_dataset': ndvi_change, 'windfield_dataset': windfield_da}) #create xarray\n",
    "\n",
    "relationship_xr=relationship_ds.groupby_bins(relationship_ds.windfield_dataset,bins=x_num,include_lowest=True) #groupby bins in order to understand trend\n",
    "mean_relationship=relationship_xr.mean() #take mean of each bin\n",
    "\n",
    "mean_relationship"
   ]
  },
  {
   "cell_type": "code",
   "execution_count": null,
   "metadata": {
    "extensions": {
     "jupyter_dashboards": {
      "version": 1,
      "views": {
       "grid_default": {
        "hidden": true
       },
       "report_default": {}
      }
     }
    }
   },
   "outputs": [],
   "source": [
    "#create plot that compares change in NDVI and windfield values\n",
    "fig = plt.figure(figsize=(10,8))\n",
    "plt.plot(windfield_matched_array, ndvi_change.values, 'o', markeredgecolor='red', markeredgewidth=0.5, markerfacecolor='None') \n",
    "plot(mean_relationship.windfield_dataset,mean_relationship.ndvi_dataset, 'k')\n",
    "\n",
    "plt.axis([x_min , x_max ,-1.0, 1.0], 'tight')\n",
    "plt.xlabel('Modelled wind field (m s$^{-1}$)') #Set X label\n",
    "plt.ylabel('Change in NDVI before and after cyclone '+str(cyclone_name)) #Set Y label\n",
    "plt.plot([x_min, x_max], [0,0], 'k-', lw=1) #add blackline at 0 to plot\n",
    "fig.patch.set_facecolor('white') #Make background white\n",
    "fig.patch.set_alpha(0.99)#Make border white"
   ]
  },
  {
   "cell_type": "code",
   "execution_count": null,
   "metadata": {
    "extensions": {
     "jupyter_dashboards": {
      "version": 1,
      "views": {
       "grid_default": {
        "hidden": true
       },
       "report_default": {}
      }
     }
    }
   },
   "outputs": [],
   "source": [
    "#Save figure\n",
    "plt.savefig(str(output_folder)+'NB01_7_windfield_vs_NDVIchange'+str(cyclone_name)+'_'+str(location_name))"
   ]
  },
  {
   "cell_type": "code",
   "execution_count": null,
   "metadata": {
    "extensions": {
     "jupyter_dashboards": {
      "version": 1,
      "views": {
       "grid_default": {
        "hidden": true
       },
       "report_default": {}
      }
     }
    }
   },
   "outputs": [],
   "source": []
  },
  {
   "cell_type": "code",
   "execution_count": null,
   "metadata": {},
   "outputs": [],
   "source": []
  }
 ],
 "metadata": {
  "extensions": {
   "jupyter_dashboards": {
    "activeView": "grid_default",
    "version": 1,
    "views": {
     "grid_default": {
      "cellMargin": 10,
      "defaultCellHeight": 20,
      "maxColumns": 12,
      "name": "grid",
      "type": "grid"
     },
     "report_default": {
      "name": "report",
      "type": "report"
     }
    }
   }
  },
  "kernelspec": {
   "display_name": "Python 3",
   "language": "python",
   "name": "python3"
  },
  "language_info": {
   "codemirror_mode": {
    "name": "ipython",
    "version": 3
   },
   "file_extension": ".py",
   "mimetype": "text/x-python",
   "name": "python",
   "nbconvert_exporter": "python",
   "pygments_lexer": "ipython3",
   "version": "3.6.3"
  },
  "toc": {
   "nav_menu": {},
   "number_sections": true,
   "sideBar": true,
   "skip_h1_title": false,
   "toc_cell": false,
   "toc_position": {},
   "toc_section_display": "block",
   "toc_window_display": true
  }
 },
 "nbformat": 4,
 "nbformat_minor": 2
}
